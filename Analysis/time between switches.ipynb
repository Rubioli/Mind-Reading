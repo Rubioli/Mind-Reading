{
 "cells": [
  {
   "cell_type": "code",
   "execution_count": 1,
   "metadata": {
    "collapsed": false
   },
   "outputs": [
    {
     "name": "stdout",
     "output_type": "stream",
     "text": [
      "Populating the interactive namespace from numpy and matplotlib\n"
     ]
    }
   ],
   "source": [
    "import pandas as pd\n",
    "%pylab inline"
   ]
  },
  {
   "cell_type": "code",
   "execution_count": 5,
   "metadata": {
    "collapsed": false
   },
   "outputs": [],
   "source": [
    "df=pd.read_csv('MindReader2.csv')\n",
    "M=df.movesPlayer[2]"
   ]
  },
  {
   "cell_type": "code",
   "execution_count": 10,
   "metadata": {
    "collapsed": false
   },
   "outputs": [],
   "source": [
    "L=[int(b) for b in M[1:-2].split('L, ')]"
   ]
  },
  {
   "cell_type": "code",
   "execution_count": 11,
   "metadata": {
    "collapsed": false
   },
   "outputs": [
    {
     "data": {
      "text/plain": [
       "160"
      ]
     },
     "execution_count": 11,
     "metadata": {},
     "output_type": "execute_result"
    }
   ],
   "source": [
    "len(L)"
   ]
  },
  {
   "cell_type": "code",
   "execution_count": 17,
   "metadata": {
    "collapsed": false
   },
   "outputs": [],
   "source": [
    "def collect_switches(L):\n",
    "    Switches=[]\n",
    "    c=L[0]\n",
    "    i=1\n",
    "    for b in L[1:]:\n",
    "        if c==b:\n",
    "            i+=1\n",
    "        else:\n",
    "            Switches.append(i)\n",
    "            i=1\n",
    "            c=b\n",
    "    return Switches"
   ]
  },
  {
   "cell_type": "code",
   "execution_count": 19,
   "metadata": {
    "collapsed": false
   },
   "outputs": [
    {
     "data": {
      "image/png": "[encoded data removed]",
      "text/plain": [
       "<matplotlib.figure.Figure at 0x11968f6d0>"
      ]
     },
     "metadata": {},
     "output_type": "display_data"
    }
   ],
   "source": [
    "S=collect_switches(L)\n",
    "hist(S,bins=30);"
   ]
  },
  {
   "cell_type": "code",
   "execution_count": 20,
   "metadata": {
    "collapsed": false
   },
   "outputs": [
    {
     "data": {
      "text/plain": [
       "(6683, 10)"
      ]
     },
     "execution_count": 20,
     "metadata": {},
     "output_type": "execute_result"
    }
   ],
   "source": [
    "shape(df)"
   ]
  },
  {
   "cell_type": "code",
   "execution_count": 26,
   "metadata": {
    "collapsed": false
   },
   "outputs": [
    {
     "name": "stdout",
     "output_type": "stream",
     "text": [
      "0 0\n",
      "500 28039\n",
      "1000 53362\n",
      "1500 78025\n",
      "2000 100839\n",
      "2500 126723\n",
      "3000 170439\n",
      "3500 205117\n",
      "4000 232769\n",
      "4500 274298\n",
      "5000 311563\n",
      "5500 339419\n",
      "6000 381990\n",
      "6500 428172\n"
     ]
    }
   ],
   "source": [
    "Switches=[]\n",
    "for i in range(shape(df)[0]):\n",
    "    M=df.movesPlayer[i]\n",
    "    L=[int(b) for b in M[1:-2].split('L, ')]\n",
    "    if(len(L)>20):\n",
    "        Switches+=collect_switches(L)\n",
    "    if i % 500 == 0:\n",
    "        print i,len(Switches)"
   ]
  },
  {
   "cell_type": "code",
   "execution_count": 39,
   "metadata": {
    "collapsed": false
   },
   "outputs": [
    {
     "data": {
      "image/png": "[encoded data removed]",
      "text/plain": [
       "<matplotlib.figure.Figure at 0x119827690>"
      ]
     },
     "metadata": {},
     "output_type": "display_data"
    }
   ],
   "source": [
    "n,bins,patches=hist([s for s in Switches if s < 30],bins=28)\n"
   ]
  },
  {
   "cell_type": "code",
   "execution_count": 40,
   "metadata": {
    "collapsed": false
   },
   "outputs": [
    {
     "data": {
      "text/plain": [
       "array([  2.38988000e+05,   9.86550000e+04,   5.17700000e+04,\n",
       "         2.59370000e+04,   1.40600000e+04,   6.47100000e+03,\n",
       "         3.70800000e+03,   1.91400000e+03,   1.17300000e+03,\n",
       "         6.82000000e+02,   4.19000000e+02,   3.00000000e+02,\n",
       "         2.09000000e+02,   1.65000000e+02,   1.00000000e+02,\n",
       "         1.08000000e+02,   8.30000000e+01,   6.90000000e+01,\n",
       "         4.40000000e+01,   1.74000000e+02,   3.50000000e+01,\n",
       "         3.30000000e+01,   2.10000000e+01,   2.60000000e+01,\n",
       "         2.10000000e+01,   2.70000000e+01,   1.80000000e+01,\n",
       "         2.20000000e+01])"
      ]
     },
     "execution_count": 40,
     "metadata": {},
     "output_type": "execute_result"
    }
   ],
   "source": [
    "n"
   ]
  },
  {
   "cell_type": "code",
   "execution_count": 41,
   "metadata": {
    "collapsed": false
   },
   "outputs": [
    {
     "data": {
      "text/plain": [
       "array([  1.,   2.,   3.,   4.,   5.,   6.,   7.,   8.,   9.,  10.,  11.,\n",
       "        12.,  13.,  14.,  15.,  16.,  17.,  18.,  19.,  20.,  21.,  22.,\n",
       "        23.,  24.,  25.,  26.,  27.,  28.,  29.])"
      ]
     },
     "execution_count": 41,
     "metadata": {},
     "output_type": "execute_result"
    }
   ],
   "source": [
    "bins"
   ]
  },
  {
   "cell_type": "code",
   "execution_count": 51,
   "metadata": {
    "collapsed": false
   },
   "outputs": [
    {
     "data": {
      "image/png": "[encoded data removed]",
      "text/plain": [
       "<matplotlib.figure.Figure at 0x11cccc9d0>"
      ]
     },
     "metadata": {},
     "output_type": "display_data"
    }
   ],
   "source": [
    "plot([log2(i)-log2(n[0]) for i in n])\n",
    "plot(arange(0,-15,-1))\n",
    "grid()"
   ]
  },
  {
   "cell_type": "markdown",
   "metadata": {},
   "source": [
    "### Conclusions\n",
    "From the data it seems that people tend to generate more runs that are longer than 10 than one expects from a truly random sequence."
   ]
  },
  {
   "cell_type": "code",
   "execution_count": 52,
   "metadata": {
    "collapsed": false
   },
   "outputs": [
    {
     "data": {
      "text/html": [
       "<div>\n",
       "<table border=\"1\" class=\"dataframe\">\n",
       "  <thead>\n",
       "    <tr style=\"text-align: right;\">\n",
       "      <th></th>\n",
       "      <th>date</th>\n",
       "      <th>mode</th>\n",
       "      <th>experts</th>\n",
       "      <th>username</th>\n",
       "      <th>result</th>\n",
       "      <th>score</th>\n",
       "      <th>ip</th>\n",
       "      <th>movesPlayer</th>\n",
       "      <th>movesComp</th>\n",
       "      <th>times</th>\n",
       "    </tr>\n",
       "  </thead>\n",
       "  <tbody>\n",
       "    <tr>\n",
       "      <th>0</th>\n",
       "      <td>0</td>\n",
       "      <td>original</td>\n",
       "      <td>[u'varTreePY', u'varTreeY']</td>\n",
       "      <td>anonymous</td>\n",
       "      <td>Restart</td>\n",
       "      <td>1</td>\n",
       "      <td>46.190.74.118</td>\n",
       "      <td>[3L]</td>\n",
       "      <td>[3L]</td>\n",
       "      <td>[1453339020246L]</td>\n",
       "    </tr>\n",
       "    <tr>\n",
       "      <th>1</th>\n",
       "      <td>0</td>\n",
       "      <td>original</td>\n",
       "      <td>[u'varTreePY', u'varTreeY']</td>\n",
       "      <td>mpla</td>\n",
       "      <td>Restart</td>\n",
       "      <td>1</td>\n",
       "      <td>46.190.74.118</td>\n",
       "      <td>[3L]</td>\n",
       "      <td>[3L]</td>\n",
       "      <td>[1453339031052L]</td>\n",
       "    </tr>\n",
       "    <tr>\n",
       "      <th>2</th>\n",
       "      <td>0</td>\n",
       "      <td>original</td>\n",
       "      <td>[u'varTreePY', u'varTreeY']</td>\n",
       "      <td>anonymous</td>\n",
       "      <td>Loser</td>\n",
       "      <td>-40</td>\n",
       "      <td>46.190.74.118</td>\n",
       "      <td>[1L, 1L, 1L, 0L, 1L, 1L, 0L, 0L, 1L, 1L, 0L, 1...</td>\n",
       "      <td>[1L, 0L, 0L, 1L, 0L, 1L, 1L, 0L, 1L, 1L, 0L, 0...</td>\n",
       "      <td>[1453339051559L, 1453339053309L, 1453339055013...</td>\n",
       "    </tr>\n",
       "    <tr>\n",
       "      <th>3</th>\n",
       "      <td>0</td>\n",
       "      <td>original</td>\n",
       "      <td>[u'varTreePY', u'varTreeY']</td>\n",
       "      <td>kinet</td>\n",
       "      <td>Loser</td>\n",
       "      <td>-9</td>\n",
       "      <td>46.190.80.111</td>\n",
       "      <td>[1L, 1L, 1L, 1L, 1L, 1L, 1L, 1L, 1L, 1L, 1L, 1...</td>\n",
       "      <td>[1L, 0L, 1L, 1L, 0L, 1L, 1L, 1L, 1L, 1L, 1L, 1...</td>\n",
       "      <td>[1453397697937L, 1453397702224L, 1453397705097...</td>\n",
       "    </tr>\n",
       "    <tr>\n",
       "      <th>4</th>\n",
       "      <td>0</td>\n",
       "      <td>original</td>\n",
       "      <td>[u'varTreePY', u'varTreeY']</td>\n",
       "      <td>anonymous</td>\n",
       "      <td>Restart</td>\n",
       "      <td>-7</td>\n",
       "      <td>46.190.85.246</td>\n",
       "      <td>[1L, 1L, 0L, 1L, 0L, 0L, 0L, 1L, 0L, 0L, 1L, 0...</td>\n",
       "      <td>[0L, 0L, 1L, 1L, 0L, 0L, 0L, 0L, 1L, 1L, 1L, 0...</td>\n",
       "      <td>[1453338720283L, 1453338722833L, 1453338724208...</td>\n",
       "    </tr>\n",
       "  </tbody>\n",
       "</table>\n",
       "</div>"
      ],
      "text/plain": [
       "  date      mode                      experts   username   result  score  \\\n",
       "0    0  original  [u'varTreePY', u'varTreeY']  anonymous  Restart      1   \n",
       "1    0  original  [u'varTreePY', u'varTreeY']       mpla  Restart      1   \n",
       "2    0  original  [u'varTreePY', u'varTreeY']  anonymous    Loser    -40   \n",
       "3    0  original  [u'varTreePY', u'varTreeY']      kinet    Loser     -9   \n",
       "4    0  original  [u'varTreePY', u'varTreeY']  anonymous  Restart     -7   \n",
       "\n",
       "              ip                                        movesPlayer  \\\n",
       "0  46.190.74.118                                               [3L]   \n",
       "1  46.190.74.118                                               [3L]   \n",
       "2  46.190.74.118  [1L, 1L, 1L, 0L, 1L, 1L, 0L, 0L, 1L, 1L, 0L, 1...   \n",
       "3  46.190.80.111  [1L, 1L, 1L, 1L, 1L, 1L, 1L, 1L, 1L, 1L, 1L, 1...   \n",
       "4  46.190.85.246  [1L, 1L, 0L, 1L, 0L, 0L, 0L, 1L, 0L, 0L, 1L, 0...   \n",
       "\n",
       "                                           movesComp  \\\n",
       "0                                               [3L]   \n",
       "1                                               [3L]   \n",
       "2  [1L, 0L, 0L, 1L, 0L, 1L, 1L, 0L, 1L, 1L, 0L, 0...   \n",
       "3  [1L, 0L, 1L, 1L, 0L, 1L, 1L, 1L, 1L, 1L, 1L, 1...   \n",
       "4  [0L, 0L, 1L, 1L, 0L, 0L, 0L, 0L, 1L, 1L, 1L, 0...   \n",
       "\n",
       "                                               times  \n",
       "0                                   [1453339020246L]  \n",
       "1                                   [1453339031052L]  \n",
       "2  [1453339051559L, 1453339053309L, 1453339055013...  \n",
       "3  [1453397697937L, 1453397702224L, 1453397705097...  \n",
       "4  [1453338720283L, 1453338722833L, 1453338724208...  "
      ]
     },
     "execution_count": 52,
     "metadata": {},
     "output_type": "execute_result"
    }
   ],
   "source": [
    "df.head()"
   ]
  },
  {
   "cell_type": "code",
   "execution_count": 66,
   "metadata": {
    "collapsed": false
   },
   "outputs": [
    {
     "data": {
      "text/plain": [
       "[('anonymous', 2991),\n",
       " ('boris', 2027),\n",
       " ('DrBrownman', 70),\n",
       " ('acb', 50),\n",
       " ('goga', 41),\n",
       " ('Mehmet', 37),\n",
       " ('Dan', 31),\n",
       " ('Lyk', 28),\n",
       " ('reyden', 24),\n",
       " ('koukou', 21)]"
      ]
     },
     "execution_count": 66,
     "metadata": {},
     "output_type": "execute_result"
    }
   ],
   "source": [
    "D=dict(df.groupby('username').count()['result'])\n",
    "\n",
    "D=D.items()\n",
    "D.sort(key=lambda p:p[1],reverse=True)\n",
    "D[:10]"
   ]
  },
  {
   "cell_type": "code",
   "execution_count": 64,
   "metadata": {
    "collapsed": true
   },
   "outputs": [],
   "source": []
  },
  {
   "cell_type": "code",
   "execution_count": null,
   "metadata": {
    "collapsed": true
   },
   "outputs": [],
   "source": []
  }
 ],
 "metadata": {
  "kernelspec": {
   "display_name": "Python 2",
   "language": "python",
   "name": "python2"
  },
  "language_info": {
   "codemirror_mode": {
    "name": "ipython",
    "version": 2
   },
   "file_extension": ".py",
   "mimetype": "text/x-python",
   "name": "python",
   "nbconvert_exporter": "python",
   "pygments_lexer": "ipython2",
   "version": "2.7.11"
  }
 },
 "nbformat": 4,
 "nbformat_minor": 0
}
