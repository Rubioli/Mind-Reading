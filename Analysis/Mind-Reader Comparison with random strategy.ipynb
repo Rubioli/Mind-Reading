{
 "cells": [
  {
   "cell_type": "code",
   "execution_count": 1,
   "metadata": {
    "collapsed": false
   },
   "outputs": [
    {
     "name": "stdout",
     "output_type": "stream",
     "text": [
      "Populating the interactive namespace from numpy and matplotlib\n"
     ]
    }
   ],
   "source": [
    "import pandas as pd\n",
    "%pylab inline"
   ]
  },
  {
   "cell_type": "code",
   "execution_count": 2,
   "metadata": {
    "collapsed": false
   },
   "outputs": [
    {
     "data": {
      "text/html": [
       "<div style=\"max-height:1000px;max-width:1500px;overflow:auto;\">\n",
       "<table border=\"1\" class=\"dataframe\">\n",
       "  <thead>\n",
       "    <tr style=\"text-align: right;\">\n",
       "      <th></th>\n",
       "      <th>date</th>\n",
       "      <th>mode</th>\n",
       "      <th>experts</th>\n",
       "      <th>username</th>\n",
       "      <th>result</th>\n",
       "      <th>score</th>\n",
       "      <th>ip</th>\n",
       "      <th>movesPlayer</th>\n",
       "      <th>movesComp</th>\n",
       "      <th>times</th>\n",
       "    </tr>\n",
       "  </thead>\n",
       "  <tbody>\n",
       "    <tr>\n",
       "      <th>0</th>\n",
       "      <td>                          0</td>\n",
       "      <td> original</td>\n",
       "      <td> [u'varTreePY', u'varTreeY']</td>\n",
       "      <td> anonymous</td>\n",
       "      <td>   Loser</td>\n",
       "      <td> -1</td>\n",
       "      <td> 77.49.249.182</td>\n",
       "      <td> [1L, 0L, 0L, 0L, 1L, 1L, 0L, 1L, 1L, 0L, 0L, 0...</td>\n",
       "      <td> [1L, 1L, 1L, 1L, 0L, 0L, 1L, 0L, 0L, 0L, 1L, 1...</td>\n",
       "      <td> [1453367217782L, 1453367219014L, 1453367220022...</td>\n",
       "    </tr>\n",
       "    <tr>\n",
       "      <th>1</th>\n",
       "      <td> 2016-01-23 13:02:48.784250</td>\n",
       "      <td> original</td>\n",
       "      <td> [u'varTreePY', u'varTreeY']</td>\n",
       "      <td> anonymous</td>\n",
       "      <td> Restart</td>\n",
       "      <td>  1</td>\n",
       "      <td> 77.49.249.182</td>\n",
       "      <td>                                              [3L]</td>\n",
       "      <td>                                              [3L]</td>\n",
       "      <td>                                              [0L]</td>\n",
       "    </tr>\n",
       "    <tr>\n",
       "      <th>2</th>\n",
       "      <td> 2016-01-23 13:04:00.022240</td>\n",
       "      <td> original</td>\n",
       "      <td> [u'varTreePY', u'varTreeY']</td>\n",
       "      <td> anonymous</td>\n",
       "      <td>   Loser</td>\n",
       "      <td>-28</td>\n",
       "      <td> 77.49.249.182</td>\n",
       "      <td> [1L, 1L, 1L, 1L, 1L, 1L, 1L, 1L, 1L, 0L, 0L, 0...</td>\n",
       "      <td> [1L, 1L, 1L, 1L, 1L, 1L, 1L, 1L, 1L, 1L, 0L, 0...</td>\n",
       "      <td> [0L, 84L, 39L, 16L, 16L, 16L, 49L, 16L, 17L, 7...</td>\n",
       "    </tr>\n",
       "    <tr>\n",
       "      <th>3</th>\n",
       "      <td> 2016-01-23 13:06:33.513500</td>\n",
       "      <td> original</td>\n",
       "      <td> [u'varTreePY', u'varTreeY']</td>\n",
       "      <td> anonymous</td>\n",
       "      <td> Cheater</td>\n",
       "      <td> 40</td>\n",
       "      <td> 77.49.249.182</td>\n",
       "      <td> [1L, 0L, 0L, 1L, 0L, 1L, 1L, 1L, 0L, 1L, 0L, 1...</td>\n",
       "      <td> [1L, 1L, 1L, 0L, 1L, 0L, 0L, 0L, 1L, 1L, 0L, 1...</td>\n",
       "      <td> [0L, 62L, 21L, 30L, 24L, 17L, 72L, 80L, 64L, 3...</td>\n",
       "    </tr>\n",
       "    <tr>\n",
       "      <th>4</th>\n",
       "      <td> 2016-01-23 13:06:47.391410</td>\n",
       "      <td> original</td>\n",
       "      <td> [u'varTreePY', u'varTreeY']</td>\n",
       "      <td> anonymous</td>\n",
       "      <td> Restart</td>\n",
       "      <td> -3</td>\n",
       "      <td> 77.49.249.182</td>\n",
       "      <td>              [1L, 1L, 0L, 0L, 1L, 1L, 0L, 1L, 1L]</td>\n",
       "      <td>              [1L, 0L, 0L, 1L, 1L, 1L, 0L, 0L, 1L]</td>\n",
       "      <td>      [0L, 47L, 43L, 41L, 37L, 41L, 40L, 42L, 34L]</td>\n",
       "    </tr>\n",
       "  </tbody>\n",
       "</table>\n",
       "</div>"
      ],
      "text/plain": [
       "                         date      mode                      experts  \\\n",
       "0                           0  original  [u'varTreePY', u'varTreeY']   \n",
       "1  2016-01-23 13:02:48.784250  original  [u'varTreePY', u'varTreeY']   \n",
       "2  2016-01-23 13:04:00.022240  original  [u'varTreePY', u'varTreeY']   \n",
       "3  2016-01-23 13:06:33.513500  original  [u'varTreePY', u'varTreeY']   \n",
       "4  2016-01-23 13:06:47.391410  original  [u'varTreePY', u'varTreeY']   \n",
       "\n",
       "    username   result  score             ip  \\\n",
       "0  anonymous    Loser     -1  77.49.249.182   \n",
       "1  anonymous  Restart      1  77.49.249.182   \n",
       "2  anonymous    Loser    -28  77.49.249.182   \n",
       "3  anonymous  Cheater     40  77.49.249.182   \n",
       "4  anonymous  Restart     -3  77.49.249.182   \n",
       "\n",
       "                                         movesPlayer  \\\n",
       "0  [1L, 0L, 0L, 0L, 1L, 1L, 0L, 1L, 1L, 0L, 0L, 0...   \n",
       "1                                               [3L]   \n",
       "2  [1L, 1L, 1L, 1L, 1L, 1L, 1L, 1L, 1L, 0L, 0L, 0...   \n",
       "3  [1L, 0L, 0L, 1L, 0L, 1L, 1L, 1L, 0L, 1L, 0L, 1...   \n",
       "4               [1L, 1L, 0L, 0L, 1L, 1L, 0L, 1L, 1L]   \n",
       "\n",
       "                                           movesComp  \\\n",
       "0  [1L, 1L, 1L, 1L, 0L, 0L, 1L, 0L, 0L, 0L, 1L, 1...   \n",
       "1                                               [3L]   \n",
       "2  [1L, 1L, 1L, 1L, 1L, 1L, 1L, 1L, 1L, 1L, 0L, 0...   \n",
       "3  [1L, 1L, 1L, 0L, 1L, 0L, 0L, 0L, 1L, 1L, 0L, 1...   \n",
       "4               [1L, 0L, 0L, 1L, 1L, 1L, 0L, 0L, 1L]   \n",
       "\n",
       "                                               times  \n",
       "0  [1453367217782L, 1453367219014L, 1453367220022...  \n",
       "1                                               [0L]  \n",
       "2  [0L, 84L, 39L, 16L, 16L, 16L, 49L, 16L, 17L, 7...  \n",
       "3  [0L, 62L, 21L, 30L, 24L, 17L, 72L, 80L, 64L, 3...  \n",
       "4       [0L, 47L, 43L, 41L, 37L, 41L, 40L, 42L, 34L]  "
      ]
     },
     "execution_count": 2,
     "metadata": {},
     "output_type": "execute_result"
    }
   ],
   "source": [
    "df=pd.read_csv('MindReader.csv')\n",
    "df.head()"
   ]
  },
  {
   "cell_type": "code",
   "execution_count": 3,
   "metadata": {
    "collapsed": false
   },
   "outputs": [
    {
     "data": {
      "text/html": [
       "<div style=\"max-height:1000px;max-width:1500px;overflow:auto;\">\n",
       "<table border=\"1\" class=\"dataframe\">\n",
       "  <thead>\n",
       "    <tr style=\"text-align: right;\">\n",
       "      <th></th>\n",
       "      <th>date</th>\n",
       "      <th>mode</th>\n",
       "      <th>experts</th>\n",
       "      <th>username</th>\n",
       "      <th>score</th>\n",
       "      <th>ip</th>\n",
       "      <th>movesPlayer</th>\n",
       "      <th>movesComp</th>\n",
       "      <th>times</th>\n",
       "    </tr>\n",
       "    <tr>\n",
       "      <th>result</th>\n",
       "      <th></th>\n",
       "      <th></th>\n",
       "      <th></th>\n",
       "      <th></th>\n",
       "      <th></th>\n",
       "      <th></th>\n",
       "      <th></th>\n",
       "      <th></th>\n",
       "      <th></th>\n",
       "    </tr>\n",
       "  </thead>\n",
       "  <tbody>\n",
       "    <tr>\n",
       "      <th>Cheater</th>\n",
       "      <td>   43</td>\n",
       "      <td>   43</td>\n",
       "      <td>   43</td>\n",
       "      <td>   43</td>\n",
       "      <td>   43</td>\n",
       "      <td>   43</td>\n",
       "      <td>   43</td>\n",
       "      <td>   43</td>\n",
       "      <td>   43</td>\n",
       "    </tr>\n",
       "    <tr>\n",
       "      <th>Hacker</th>\n",
       "      <td>    8</td>\n",
       "      <td>    8</td>\n",
       "      <td>    8</td>\n",
       "      <td>    8</td>\n",
       "      <td>    8</td>\n",
       "      <td>    8</td>\n",
       "      <td>    8</td>\n",
       "      <td>    8</td>\n",
       "      <td>    8</td>\n",
       "    </tr>\n",
       "    <tr>\n",
       "      <th>Loser</th>\n",
       "      <td> 1409</td>\n",
       "      <td> 1409</td>\n",
       "      <td> 1409</td>\n",
       "      <td> 1409</td>\n",
       "      <td> 1409</td>\n",
       "      <td> 1409</td>\n",
       "      <td> 1409</td>\n",
       "      <td> 1409</td>\n",
       "      <td> 1409</td>\n",
       "    </tr>\n",
       "    <tr>\n",
       "      <th>Restart</th>\n",
       "      <td> 1033</td>\n",
       "      <td> 1033</td>\n",
       "      <td> 1033</td>\n",
       "      <td> 1033</td>\n",
       "      <td> 1033</td>\n",
       "      <td> 1033</td>\n",
       "      <td> 1033</td>\n",
       "      <td> 1033</td>\n",
       "      <td> 1033</td>\n",
       "    </tr>\n",
       "    <tr>\n",
       "      <th>TimeOut</th>\n",
       "      <td>  437</td>\n",
       "      <td>  437</td>\n",
       "      <td>  437</td>\n",
       "      <td>  437</td>\n",
       "      <td>  437</td>\n",
       "      <td>  437</td>\n",
       "      <td>  437</td>\n",
       "      <td>  437</td>\n",
       "      <td>  437</td>\n",
       "    </tr>\n",
       "    <tr>\n",
       "      <th>Winner</th>\n",
       "      <td>  293</td>\n",
       "      <td>  293</td>\n",
       "      <td>  293</td>\n",
       "      <td>  293</td>\n",
       "      <td>  293</td>\n",
       "      <td>  293</td>\n",
       "      <td>  293</td>\n",
       "      <td>  293</td>\n",
       "      <td>  293</td>\n",
       "    </tr>\n",
       "  </tbody>\n",
       "</table>\n",
       "</div>"
      ],
      "text/plain": [
       "         date  mode  experts  username  score    ip  movesPlayer  movesComp  \\\n",
       "result                                                                        \n",
       "Cheater    43    43       43        43     43    43           43         43   \n",
       "Hacker      8     8        8         8      8     8            8          8   \n",
       "Loser    1409  1409     1409      1409   1409  1409         1409       1409   \n",
       "Restart  1033  1033     1033      1033   1033  1033         1033       1033   \n",
       "TimeOut   437   437      437       437    437   437          437        437   \n",
       "Winner    293   293      293       293    293   293          293        293   \n",
       "\n",
       "         times  \n",
       "result          \n",
       "Cheater     43  \n",
       "Hacker       8  \n",
       "Loser     1409  \n",
       "Restart   1033  \n",
       "TimeOut    437  \n",
       "Winner     293  "
      ]
     },
     "execution_count": 3,
     "metadata": {},
     "output_type": "execute_result"
    }
   ],
   "source": [
    "df.groupby('result').count()"
   ]
  },
  {
   "cell_type": "code",
   "execution_count": 4,
   "metadata": {
    "collapsed": false,
    "scrolled": true
   },
   "outputs": [],
   "source": [
    "winLose=df[(df['result'] =='Winner') | (df['result'] =='Loser')]\n",
    "winLose=np.sort(winLose['score'])"
   ]
  },
  {
   "cell_type": "markdown",
   "metadata": {},
   "source": [
    "## Performance for random coin flip strategy\n",
    "\n",
    "Let $c$ be the number of car advances by the computer, let $r$ be the number of car advances by a random coin flip strategy. $\\max(c,r)=100$ and we are interested in the distribution of $r-c$.\n",
    "\n",
    "This process is a random walk with absorbing boundaries at $r=100$ and $c=100$\n",
    "\n",
    "Define a function $P(t,g)$ where $t=c+r$ and $g=r-c$. \n",
    "\n",
    "Clearly $r=\\frac{g+t}{2}$ and $c=\\frac{t-g}{2}$\n",
    "\n",
    "For a given value of $t$, $P(t,g)$ defines a probability over $g$.\n",
    "\n",
    "for $t=0$ we have $P(0,0)=1$ and $P(0,g)=0$ for $g \\neq 0$\n",
    "\n",
    "for $t=1,2,..200$\n",
    "\n",
    "1. $$ P(t,g)= \\frac{P(t-1,g+1)+P(t-1,g-1)}{2} $$\n",
    "2. For $c=100$ -- $t-g=200$ -- $g=t-200$ and for $r=100$ - $g+t=200$ - $g=200-t$ set $F(g)=P(t,g)$ then set $P(t,g)=0$\n",
    "\n"
   ]
  },
  {
   "cell_type": "code",
   "execution_count": 41,
   "metadata": {
    "collapsed": false,
    "scrolled": true
   },
   "outputs": [
    {
     "name": "stdout",
     "output_type": "stream",
     "text": [
      "201 201\n"
     ]
    },
    {
     "data": {
      "image/png": "[encoded data removed]",
      "text/plain": [
       "<matplotlib.figure.Figure at 0x10a44ff50>"
      ]
     },
     "metadata": {},
     "output_type": "display_data"
    }
   ],
   "source": [
    "from math import factorial\n",
    "P=np.zeros([201,201])\n",
    "F=np.zeros([201,1])\n",
    "\n",
    "P[0,100]=1;\n",
    "\n",
    "for t in range(1,201):\n",
    "    for g in range(1,200):\n",
    "        P[t,g]=(P[t-1,g-1]+P[t-1,g+1])/2.0;\n",
    "        if t-(g-100)==200 or t+(g-100)==200:\n",
    "            F[g]=P[t,g]\n",
    "            P[t,g]=0\n",
    "        \n",
    "x=range(-100,101)\n",
    "plot(x,cumsum(F))\n",
    "print len(F),len(x)"
   ]
  },
  {
   "cell_type": "code",
   "execution_count": 40,
   "metadata": {
    "collapsed": false
   },
   "outputs": [
    {
     "data": {
      "text/plain": [
       "array([[ 0.   ,  0.   ,  0.   ,  1.   ,  0.   ,  0.   ],\n",
       "       [ 0.   ,  0.   ,  0.5  ,  0.   ,  0.5  ,  0.   ],\n",
       "       [ 0.   ,  0.25 ,  0.   ,  0.5  ,  0.   ,  0.25 ],\n",
       "       [ 0.125,  0.   ,  0.375,  0.   ,  0.375,  0.   ],\n",
       "       [ 0.   ,  0.25 ,  0.   ,  0.375,  0.   ,  0.25 ]])"
      ]
     },
     "execution_count": 40,
     "metadata": {},
     "output_type": "execute_result"
    }
   ],
   "source": [
    "P[0:5,97:103]"
   ]
  },
  {
   "cell_type": "markdown",
   "metadata": {},
   "source": [
    "The bump at around 0 is because a draw ($g=0) is impossible in this game "
   ]
  },
  {
   "cell_type": "markdown",
   "metadata": {},
   "source": [
    "### Comparison with random strategy\n",
    "THe figures below show that humans almost always perform worse than random guessing.We ccome to this conclusion by comparing the comparing the empirical CDF with the CDF calculated for the strategy that generates 0,1 independently at random with probabilities 1/2,1/2."
   ]
  },
  {
   "cell_type": "code",
   "execution_count": 42,
   "metadata": {
    "collapsed": false
   },
   "outputs": [
    {
     "data": {
      "image/png": "[encoded data removed]",
      "text/plain": [
       "<matplotlib.figure.Figure at 0x106029d50>"
      ]
     },
     "metadata": {},
     "output_type": "display_data"
    }
   ],
   "source": [
    "L=len(winLose)\n",
    "plot(winLose,arange(0,1,1./L),x,cumsum(F))\n",
    "grid()"
   ]
  },
  {
   "cell_type": "code",
   "execution_count": 44,
   "metadata": {
    "collapsed": false
   },
   "outputs": [
    {
     "name": "stdout",
     "output_type": "stream",
     "text": [
      "[ 28  28  29  30  31  31  33  37  76 100] 1702 0.000587544065805\n"
     ]
    },
    {
     "data": {
      "image/png": "[encoded data removed]",
      "text/plain": [
       "<matplotlib.figure.Figure at 0x10b69c790>"
      ]
     },
     "metadata": {},
     "output_type": "display_data"
    }
   ],
   "source": [
    "plot(winLose,arange(0,1,1./L),x,cumsum(F))\n",
    "print winLose[-10:],L,1.0/L\n",
    "xlim([20,60])\n",
    "ylim([0.98,1])\n",
    "grid()"
   ]
  },
  {
   "cell_type": "markdown",
   "metadata": {},
   "source": [
    "### Outliers\n",
    "The cross-over between the graphs occurs at about 37. It is clear from this graph that the two highest scores 76 and 100, are probably cheats.\n",
    "\n",
    "It would be interesting to show the user where they are in terms of top percentile when compared with the other users, and when compared with the random strategy. Basically, the figure shows that scores higher than 45 are extremely unlikely if you are using a randomized strategy, so one can see it as evidence that you are doing better than random."
   ]
  },
  {
   "cell_type": "code",
   "execution_count": null,
   "metadata": {
    "collapsed": true
   },
   "outputs": [],
   "source": []
  }
 ],
 "metadata": {
  "kernelspec": {
   "display_name": "Python 2",
   "language": "python",
   "name": "python2"
  },
  "language_info": {
   "codemirror_mode": {
    "name": "ipython",
    "version": 2
   },
   "file_extension": ".py",
   "mimetype": "text/x-python",
   "name": "python",
   "nbconvert_exporter": "python",
   "pygments_lexer": "ipython2",
   "version": "2.7.10"
  }
 },
 "nbformat": 4,
 "nbformat_minor": 0
}
