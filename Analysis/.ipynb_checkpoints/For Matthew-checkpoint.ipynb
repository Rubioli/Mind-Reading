{
 "cells": [
  {
   "cell_type": "code",
   "execution_count": 2,
   "metadata": {
    "collapsed": false
   },
   "outputs": [
    {
     "name": "stdout",
     "output_type": "stream",
     "text": [
      "Populating the interactive namespace from numpy and matplotlib\n"
     ]
    }
   ],
   "source": [
    "import pandas as pd\n",
    "%pylab inline"
   ]
  },
  {
   "cell_type": "markdown",
   "metadata": {},
   "source": [
    "## Performance for random coin flip strategy\n",
    "\n",
    "Let $c$ be the number of car advances by the computer, let $r$ be the number of car advances by a random coin flip strategy. $\\max(c,r)=100$ and we are interested in the distribution of $r-c$.\n",
    "\n",
    "This process is a random walk with absorbing boundaries at $r=100$ and $c=100$\n",
    "\n",
    "Define a function $P(t,g)$ where $t=c+r$ and $g=r-c$. \n",
    "\n",
    "Clearly $r=\\frac{g+t}{2}$ and $c=\\frac{t-g}{2}$\n",
    "\n",
    "For a given value of $t$, $P(t,g)$ defines a probability over $g$.\n",
    "\n",
    "for $t=0$ we have $P(0,0)=1$ and $P(0,g)=0$ for $g \\neq 0$\n",
    "\n",
    "for $t=1,2,..200$\n",
    "\n",
    "1. $ P(t,g)= \\frac{P(t-1,g+1)+P(t-1,g-1)}{2} $\n",
    "2. **If** \n",
    "  * **Computer won:** $c=100$ -- $t-g=200$ -- $g=t-200$ \n",
    "  * Or **Player won:** $r=100$ - $g+t=200$ - $g=200-t$ \n",
    "  * **Then** set $F(g)=P(t,g)$ and afterwards set $P(t,g)=0$\n",
    "\n"
   ]
  },
  {
   "cell_type": "code",
   "execution_count": 7,
   "metadata": {
    "collapsed": false,
    "scrolled": false
   },
   "outputs": [
    {
     "name": "stdout",
     "output_type": "stream",
     "text": [
      "201 201\n"
     ]
    },
    {
     "data": {
      "image/png": "[encoded data removed]",
      "text/plain": [
       "<matplotlib.figure.Figure at 0x105cf2b50>"
      ]
     },
     "metadata": {},
     "output_type": "display_data"
    }
   ],
   "source": [
    "from math import factorial\n",
    "P=np.zeros([201,201])\n",
    "F=np.zeros([201,1])\n",
    "\n",
    "P[0,100]=1;\n",
    "\n",
    "for t in range(1,201):\n",
    "    for g in range(1,200):\n",
    "        P[t,g]=(P[t-1,g-1]+P[t-1,g+1])/2.0;\n",
    "        if t-(g-100)==200 or t+(g-100)==200:\n",
    "            F[g]=P[t,g]\n",
    "            P[t,g]=0\n",
    "        \n",
    "x=range(-100,101)\n",
    "plot(x,cumsum(F))\n",
    "print len(F),len(x)"
   ]
  },
  {
   "cell_type": "code",
   "execution_count": 9,
   "metadata": {
    "collapsed": false
   },
   "outputs": [
    {
     "data": {
      "text/plain": [
       "[<matplotlib.lines.Line2D at 0x109603710>]"
      ]
     },
     "execution_count": 9,
     "metadata": {},
     "output_type": "execute_result"
    },
    {
     "data": {
      "image/png": "[encoded data removed]",
      "text/plain": [
       "<matplotlib.figure.Figure at 0x109906490>"
      ]
     },
     "metadata": {},
     "output_type": "display_data"
    }
   ],
   "source": [
    "plot(x,F)"
   ]
  },
  {
   "cell_type": "code",
   "execution_count": 70,
   "metadata": {
    "collapsed": false
   },
   "outputs": [
    {
     "name": "stdout",
     "output_type": "stream",
     "text": [
      "100\n",
      "['0.02832', '0.02832', '0.02817', '0.02788', '0.02746', '0.02689', '0.02619', '0.02537', '0.02444', '0.02342', '0.02230', '0.02111', '0.01987', '0.01859', '0.01728', '0.01597', '0.01466', '0.01337', '0.01212', '0.01090', '0.00975', '0.00865', '0.00762', '0.00667', '0.00579', '0.00500', '0.00427', '0.00363', '0.00305', '0.00255', '0.00211', '0.00174', '0.00141', '0.00114', '0.00091', '0.00072', '0.00057', '0.00044', '0.00034', '0.00026', '0.00020', '0.00015', '0.00011', '0.00008', '0.00006', '0.00004', '0.00003', '0.00002', '0.00001', '0.00001', '0.00001', '0.00000', '0.00000', '0.00000', '0.00000', '0.00000', '0.00000', '0.00000', '0.00000', '0.00000', '0.00000', '0.00000', '0.00000', '0.00000', '0.00000', '0.00000', '0.00000', '0.00000', '0.00000', '0.00000', '0.00000', '0.00000', '0.00000', '0.00000', '0.00000', '0.00000', '0.00000', '0.00000', '0.00000', '0.00000', '0.00000', '0.00000', '0.00000', '0.00000', '0.00000', '0.00000', '0.00000', '0.00000', '0.00000', '0.00000', '0.00000', '0.00000', '0.00000', '0.00000', '0.00000', '0.00000', '0.00000', '0.00000', '0.00000', '0.00000']\n",
      "0.5\n"
     ]
    },
    {
     "data": {
      "image/png": "[encoded data removed]",
      "text/plain": [
       "<matplotlib.figure.Figure at 0x10c521310>"
      ]
     },
     "metadata": {},
     "output_type": "display_data"
    }
   ],
   "source": [
    "Pos=np.array([a[0] for a in F[101:]])\n",
    "print len(Pos)\n",
    "print ['%6.5f'%a for a in Pos]\n",
    "print sum(Pos)\n",
    "plot(Pos[:20]);\n",
    "grid()"
   ]
  },
  {
   "cell_type": "code",
   "execution_count": null,
   "metadata": {
    "collapsed": true
   },
   "outputs": [],
   "source": []
  },
  {
   "cell_type": "code",
   "execution_count": 170,
   "metadata": {
    "collapsed": false,
    "scrolled": false
   },
   "outputs": [
    {
     "data": {
      "text/plain": [
       "0.99794504135677065"
      ]
     },
     "execution_count": 170,
     "metadata": {},
     "output_type": "execute_result"
    }
   ],
   "source": [
    "G=np.zeros([100])\n",
    "G[2:]=1\n",
    "G[7:]=2\n",
    "G[15:]=3\n",
    "exp_point=21\n",
    "G[exp_point:]=4\n",
    "for i in range(exp_point,len(G)-1):\n",
    "    G[i] = int(max(G[exp_point],0.001/Pos[i]))\n",
    "G[-1]=G[-2]\n",
    "np.dot(G,Pos)"
   ]
  },
  {
   "cell_type": "code",
   "execution_count": 172,
   "metadata": {
    "collapsed": false
   },
   "outputs": [
    {
     "data": {
      "text/plain": [
       "[<matplotlib.lines.Line2D at 0x10e01acd0>]"
      ]
     },
     "execution_count": 172,
     "metadata": {},
     "output_type": "execute_result"
    },
    {
     "data": {
      "image/png": "[encoded data removed]",
      "text/plain": [
       "<matplotlib.figure.Figure at 0x10cf6b4d0>"
      ]
     },
     "metadata": {},
     "output_type": "display_data"
    }
   ],
   "source": [
    "plot(log(G))"
   ]
  },
  {
   "cell_type": "markdown",
   "metadata": {},
   "source": [
    "### For Matthew\n",
    "\n",
    "The vector G defined above is guaranteed to give an expected gain smaller than 1. As the player pays 1 before starting, it means that the expected gain of the player is negative.\n",
    "\n",
    "You need to give the player no reward for at least one of the winning states. I chose the state where he wins by 1 to have no reward (lose 1) from 2 to 6 the reward is 1 (lose 0) etc.\n",
    "\n",
    "from exp-point on you have an exponential grows of the reward.\n",
    "\n",
    "You can play around with the numbers as long as the final dot product is smaller than 1"
   ]
  },
  {
   "cell_type": "code",
   "execution_count": 173,
   "metadata": {
    "collapsed": false
   },
   "outputs": [
    {
     "data": {
      "text/plain": [
       "array([  0.00000000e+00,   0.00000000e+00,   1.00000000e+00,\n",
       "         1.00000000e+00,   1.00000000e+00,   1.00000000e+00,\n",
       "         1.00000000e+00,   2.00000000e+00,   2.00000000e+00,\n",
       "         2.00000000e+00,   2.00000000e+00,   2.00000000e+00,\n",
       "         2.00000000e+00,   2.00000000e+00,   2.00000000e+00,\n",
       "         3.00000000e+00,   3.00000000e+00,   3.00000000e+00,\n",
       "         3.00000000e+00,   3.00000000e+00,   3.00000000e+00,\n",
       "         4.00000000e+00,   4.00000000e+00,   4.00000000e+00,\n",
       "         4.00000000e+00,   4.00000000e+00,   4.00000000e+00,\n",
       "         4.00000000e+00,   4.00000000e+00,   4.00000000e+00,\n",
       "         4.00000000e+00,   4.00000000e+00,   4.00000000e+00,\n",
       "         4.00000000e+00,   4.00000000e+00,   4.00000000e+00,\n",
       "         4.00000000e+00,   4.00000000e+00,   4.00000000e+00,\n",
       "         4.00000000e+00,   5.00000000e+00,   6.00000000e+00,\n",
       "         9.00000000e+00,   1.20000000e+01,   1.70000000e+01,\n",
       "         2.40000000e+01,   3.40000000e+01,   4.90000000e+01,\n",
       "         7.20000000e+01,   1.06000000e+02,   1.58000000e+02,\n",
       "         2.39000000e+02,   3.66000000e+02,   5.69000000e+02,\n",
       "         8.97000000e+02,   1.43500000e+03,   2.33200000e+03,\n",
       "         3.85100000e+03,   6.46400000e+03,   1.10370000e+04,\n",
       "         1.91770000e+04,   3.39290000e+04,   6.11620000e+04,\n",
       "         1.12406000e+05,   2.10761000e+05,   4.03457000e+05,\n",
       "         7.89115000e+05,   1.57823000e+06,   3.23044000e+06,\n",
       "         6.77350300e+06,   1.45630320e+07,   3.21391060e+07,\n",
       "         7.28869020e+07,   1.70069438e+08,   4.08820765e+08,\n",
       "         1.01387550e+09,   2.59805596e+09,   6.89049625e+09,\n",
       "         1.89488647e+10,   5.41396134e+10,   1.61065350e+11,\n",
       "         5.00150297e+11,   1.62548846e+12,   5.54578417e+12,\n",
       "         1.99301619e+13,   7.57346151e+13,   3.05643268e+14,\n",
       "         1.31661716e+15,   6.08935434e+15,   3.04467717e+16,\n",
       "         1.65934906e+17,   9.95609435e+17,   6.65813810e+18,\n",
       "         5.04116170e+19,   4.41101649e+20,   4.58745715e+21,\n",
       "         5.90635108e+22,   1.00407968e+24,   2.53530120e+25,\n",
       "         2.53530120e+25])"
      ]
     },
     "execution_count": 173,
     "metadata": {},
     "output_type": "execute_result"
    }
   ],
   "source": [
    "G"
   ]
  },
  {
   "cell_type": "code",
   "execution_count": null,
   "metadata": {
    "collapsed": true
   },
   "outputs": [],
   "source": []
  }
 ],
 "metadata": {
  "kernelspec": {
   "display_name": "Python 2",
   "language": "python",
   "name": "python2"
  },
  "language_info": {
   "codemirror_mode": {
    "name": "ipython",
    "version": 2
   },
   "file_extension": ".py",
   "mimetype": "text/x-python",
   "name": "python",
   "nbconvert_exporter": "python",
   "pygments_lexer": "ipython2",
   "version": "2.7.12"
  }
 },
 "nbformat": 4,
 "nbformat_minor": 0
}
